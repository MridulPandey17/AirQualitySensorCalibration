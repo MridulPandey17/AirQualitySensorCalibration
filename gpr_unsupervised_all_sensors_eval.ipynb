{
 "cells": [
  {
   "cell_type": "markdown",
   "metadata": {},
   "source": [
    "### Getting the results of the model trained using unsupervised approach on all the hcs locations"
   ]
  },
  {
   "cell_type": "markdown",
   "metadata": {},
   "source": [
    "#### Data Preparation"
   ]
  },
  {
   "cell_type": "code",
   "execution_count": 1,
   "metadata": {},
   "outputs": [
    {
     "name": "stdout",
     "output_type": "stream",
     "text": [
      "NUM_LAST_DAYS = 12, NUM_NEAREST_SENSORS = 10, EPOCHS = 25\n"
     ]
    }
   ],
   "source": [
    "import os \n",
    "import sys\n",
    "import pandas as pd \n",
    "import numpy as np\n",
    "import pickle \n",
    "import json\n",
    "from keras.models import load_model\n",
    "from sklearn.model_selection import train_test_split\n",
    "from sklearn.gaussian_process.kernels import DotProduct, WhiteKernel\n",
    "from sklearn.gaussian_process import GaussianProcessRegressor\n",
    "from sklearn.metrics import r2_score, mean_absolute_error\n",
    "from sklearn.ensemble import VotingRegressor\n",
    "from sklearn.preprocessing import StandardScaler\n",
    "from NN_unsupervised_all_sensors import NUM_NEAREST_SENSORS, model_save_path,NUM_LAST_DAYS"
   ]
  },
  {
   "cell_type": "code",
   "execution_count": 2,
   "metadata": {},
   "outputs": [],
   "source": [
    "import warnings\n",
    "warnings.filterwarnings('ignore')"
   ]
  },
  {
   "cell_type": "code",
   "execution_count": 3,
   "metadata": {},
   "outputs": [],
   "source": [
    "def get_location_specific_lcs_data(location, df):\n",
    "    \n",
    "    '''\n",
    "    location : string, the location for which you want the lcs sensors\n",
    "    \n",
    "    returns df containing the lcs for that location\n",
    "    '''\n",
    "    \n",
    "    columns_to_return = []\n",
    "    for col in df.columns: \n",
    "        if location in col:\n",
    "            columns_to_return.append(col)\n",
    "            \n",
    "    return df[columns_to_return]"
   ]
  },
  {
   "cell_type": "code",
   "execution_count": 4,
   "metadata": {},
   "outputs": [],
   "source": [
    "def get_location_specific_hcs_data(location_index, df):\n",
    "    \n",
    "    '''\n",
    "    \n",
    "    location_index : int, the index for which we want the hcs sensors data\n",
    "    returns df containing that hcs\n",
    "    \n",
    "    '''\n",
    "    \n",
    "    columns_to_return = []\n",
    "    for x in list(df.columns): \n",
    "        if int(x.split('_')[-1]) == int(location_index):\n",
    "            columns_to_return.append(x)\n",
    "            \n",
    "    return df[columns_to_return]"
   ]
  },
  {
   "cell_type": "code",
   "execution_count": 5,
   "metadata": {},
   "outputs": [],
   "source": [
    "def get_k_closest_sensors_data(input_loc, df, k=NUM_NEAREST_SENSORS):\n",
    "\n",
    "    '''\n",
    "    input_loc : pair of (lat, long) of hcs location\n",
    "    df : has say n sensors (each sensor is taking 5 columns [pm, temp, rh, lat, long])\n",
    "    of these n sensors we return a dataframe containing all the data for k nearest sensors \n",
    "    '''\n",
    "    \n",
    "    column_groups = [df.columns[i*5:i*5+5] for i in range(int(df.shape[1]/5))]\n",
    "    sensors_coord = [(df.iloc[0, i*5+3], df.iloc[0, i*5+4]) for i in range(int(df.shape[1]/5))]\n",
    "    \n",
    "    sensors_dist = [abs(input_loc[0] - x) + abs(input_loc[1] - y)  for (x, y) in sensors_coord]\n",
    "    \n",
    "    indices_list = list(range(len(sensors_dist)))\n",
    "    sorted_indices_list = sorted(indices_list, key = lambda i : sensors_dist[i])\n",
    "    top_k_indices_list = sorted_indices_list[:k] # these indices groups need to be included\n",
    "    # print(top_k_indices_list)\n",
    "    \n",
    "    columns_to_return = []\n",
    "    for index in top_k_indices_list:\n",
    "        columns_to_return += column_groups[index].tolist()\n",
    "    \n",
    "    return df[columns_to_return]"
   ]
  },
  {
   "cell_type": "code",
   "execution_count": 6,
   "metadata": {},
   "outputs": [],
   "source": [
    "def normalize_test_prep_data(lcs_data, hcs_data):\n",
    "    \n",
    "    # lcs_data.shape = (510, 5*num_lcs_data)\n",
    "    # getting rel values\n",
    "    for i in range(0, int(lcs_data.shape[1]/5), 5):\n",
    "        lcs_data.iloc[:, i*5+1] = lcs_data.iloc[:, i*5+1] - hcs_data.iloc[:, 4] # temp\n",
    "        lcs_data.iloc[:, i*5+2] = lcs_data.iloc[:, i*5+2] - hcs_data.iloc[:, 3] # rh \n",
    "        lcs_data.iloc[:, i*5+3] = lcs_data.iloc[:, i*5+3] - hcs_data.iloc[:, 7] # lat\n",
    "        lcs_data.iloc[:, i*5+4] = lcs_data.iloc[:, i*5+4] - hcs_data.iloc[:, 8] # long\n",
    "    \n",
    "    test_X = lcs_data.values\n",
    "    test_y = hcs_data.values[:, 2]\n",
    "    test_scaler = StandardScaler()\n",
    "    test_X = test_scaler.fit_transform(test_X)\n",
    "    \n",
    "    return test_X, test_y"
   ]
  },
  {
   "cell_type": "code",
   "execution_count": 7,
   "metadata": {},
   "outputs": [],
   "source": [
    "with open(\"data/hcsIndex2Name.json\", \"r\") as f: \n",
    "    hcsIndex2Name = json.load(f)\n",
    "\n",
    "with open(\"data/hcsName2Index.json\", \"r\") as f: \n",
    "    hcsName2Index = json.load(f)"
   ]
  },
  {
   "cell_type": "code",
   "execution_count": 8,
   "metadata": {},
   "outputs": [
    {
     "name": "stdout",
     "output_type": "stream",
     "text": [
      "lcs_data.shape = (510, 1235)\n"
     ]
    },
    {
     "data": {
      "text/html": [
       "<div>\n",
       "<style scoped>\n",
       "    .dataframe tbody tr th:only-of-type {\n",
       "        vertical-align: middle;\n",
       "    }\n",
       "\n",
       "    .dataframe tbody tr th {\n",
       "        vertical-align: top;\n",
       "    }\n",
       "\n",
       "    .dataframe thead th {\n",
       "        text-align: right;\n",
       "    }\n",
       "</style>\n",
       "<table border=\"1\" class=\"dataframe\">\n",
       "  <thead>\n",
       "    <tr style=\"text-align: right;\">\n",
       "      <th></th>\n",
       "      <th>PM25_1201230029_ARARIA_ARARIA</th>\n",
       "      <th>Temp_1201230029_ARARIA_ARARIA</th>\n",
       "      <th>RH_1201230029_ARARIA_ARARIA</th>\n",
       "      <th>lat_PM25_1201230029_ARARIA_ARARIA</th>\n",
       "      <th>long_PM25_1201230029_ARARIA_ARARIA</th>\n",
       "      <th>PM25_1201230033_KURSAKANTA_ARARIA</th>\n",
       "      <th>Temp_1201230033_KURSAKANTA_ARARIA</th>\n",
       "      <th>RH_1201230033_KURSAKANTA_ARARIA</th>\n",
       "      <th>lat_PM25_1201230033_KURSAKANTA_ARARIA</th>\n",
       "      <th>long_PM25_1201230033_KURSAKANTA_ARARIA</th>\n",
       "      <th>...</th>\n",
       "      <th>PM25_BCDDC247BFE3_BHITAHA_WCHAMPARAN</th>\n",
       "      <th>Temp_BCDDC247BFE3_BHITAHA_WCHAMPARAN</th>\n",
       "      <th>RH_BCDDC247BFE3_BHITAHA_WCHAMPARAN</th>\n",
       "      <th>lat_PM25_BCDDC247BFE3_BHITAHA_WCHAMPARAN</th>\n",
       "      <th>long_PM25_BCDDC247BFE3_BHITAHA_WCHAMPARAN</th>\n",
       "      <th>PM25_DC4F22364445_PIPRASI_WCHAMPARAN</th>\n",
       "      <th>Temp_DC4F22364445_PIPRASI_WCHAMPARAN</th>\n",
       "      <th>RH_DC4F22364445_PIPRASI_WCHAMPARAN</th>\n",
       "      <th>lat_PM25_DC4F22364445_PIPRASI_WCHAMPARAN</th>\n",
       "      <th>long_PM25_DC4F22364445_PIPRASI_WCHAMPARAN</th>\n",
       "    </tr>\n",
       "  </thead>\n",
       "  <tbody>\n",
       "    <tr>\n",
       "      <th>0</th>\n",
       "      <td>8.0</td>\n",
       "      <td>32.0</td>\n",
       "      <td>98.0</td>\n",
       "      <td>26.148</td>\n",
       "      <td>87.457</td>\n",
       "      <td>26.0</td>\n",
       "      <td>30.5</td>\n",
       "      <td>90.0</td>\n",
       "      <td>26.359</td>\n",
       "      <td>87.443</td>\n",
       "      <td>...</td>\n",
       "      <td>14.55</td>\n",
       "      <td>38.25</td>\n",
       "      <td>50.36</td>\n",
       "      <td>26.907</td>\n",
       "      <td>84.136</td>\n",
       "      <td>18.02</td>\n",
       "      <td>35.59</td>\n",
       "      <td>57.30</td>\n",
       "      <td>27.06</td>\n",
       "      <td>84.023</td>\n",
       "    </tr>\n",
       "    <tr>\n",
       "      <th>1</th>\n",
       "      <td>6.0</td>\n",
       "      <td>33.0</td>\n",
       "      <td>98.0</td>\n",
       "      <td>26.148</td>\n",
       "      <td>87.457</td>\n",
       "      <td>20.5</td>\n",
       "      <td>30.5</td>\n",
       "      <td>90.0</td>\n",
       "      <td>26.359</td>\n",
       "      <td>87.443</td>\n",
       "      <td>...</td>\n",
       "      <td>11.22</td>\n",
       "      <td>38.82</td>\n",
       "      <td>50.36</td>\n",
       "      <td>26.907</td>\n",
       "      <td>84.136</td>\n",
       "      <td>13.92</td>\n",
       "      <td>36.46</td>\n",
       "      <td>57.30</td>\n",
       "      <td>27.06</td>\n",
       "      <td>84.023</td>\n",
       "    </tr>\n",
       "    <tr>\n",
       "      <th>2</th>\n",
       "      <td>6.5</td>\n",
       "      <td>34.5</td>\n",
       "      <td>98.0</td>\n",
       "      <td>26.148</td>\n",
       "      <td>87.457</td>\n",
       "      <td>12.5</td>\n",
       "      <td>30.0</td>\n",
       "      <td>90.0</td>\n",
       "      <td>26.359</td>\n",
       "      <td>87.443</td>\n",
       "      <td>...</td>\n",
       "      <td>15.26</td>\n",
       "      <td>38.46</td>\n",
       "      <td>50.36</td>\n",
       "      <td>26.907</td>\n",
       "      <td>84.136</td>\n",
       "      <td>14.37</td>\n",
       "      <td>35.90</td>\n",
       "      <td>57.30</td>\n",
       "      <td>27.06</td>\n",
       "      <td>84.023</td>\n",
       "    </tr>\n",
       "    <tr>\n",
       "      <th>3</th>\n",
       "      <td>13.0</td>\n",
       "      <td>33.5</td>\n",
       "      <td>98.0</td>\n",
       "      <td>26.148</td>\n",
       "      <td>87.457</td>\n",
       "      <td>15.5</td>\n",
       "      <td>30.0</td>\n",
       "      <td>88.0</td>\n",
       "      <td>26.359</td>\n",
       "      <td>87.443</td>\n",
       "      <td>...</td>\n",
       "      <td>37.81</td>\n",
       "      <td>39.47</td>\n",
       "      <td>47.59</td>\n",
       "      <td>26.907</td>\n",
       "      <td>84.136</td>\n",
       "      <td>11.13</td>\n",
       "      <td>36.68</td>\n",
       "      <td>56.93</td>\n",
       "      <td>27.06</td>\n",
       "      <td>84.023</td>\n",
       "    </tr>\n",
       "    <tr>\n",
       "      <th>4</th>\n",
       "      <td>10.0</td>\n",
       "      <td>34.0</td>\n",
       "      <td>98.0</td>\n",
       "      <td>26.148</td>\n",
       "      <td>87.457</td>\n",
       "      <td>10.0</td>\n",
       "      <td>32.0</td>\n",
       "      <td>82.5</td>\n",
       "      <td>26.359</td>\n",
       "      <td>87.443</td>\n",
       "      <td>...</td>\n",
       "      <td>15.55</td>\n",
       "      <td>39.96</td>\n",
       "      <td>46.83</td>\n",
       "      <td>26.907</td>\n",
       "      <td>84.136</td>\n",
       "      <td>11.48</td>\n",
       "      <td>38.89</td>\n",
       "      <td>51.65</td>\n",
       "      <td>27.06</td>\n",
       "      <td>84.023</td>\n",
       "    </tr>\n",
       "  </tbody>\n",
       "</table>\n",
       "<p>5 rows × 1235 columns</p>\n",
       "</div>"
      ],
      "text/plain": [
       "   PM25_1201230029_ARARIA_ARARIA  Temp_1201230029_ARARIA_ARARIA  \\\n",
       "0                            8.0                           32.0   \n",
       "1                            6.0                           33.0   \n",
       "2                            6.5                           34.5   \n",
       "3                           13.0                           33.5   \n",
       "4                           10.0                           34.0   \n",
       "\n",
       "   RH_1201230029_ARARIA_ARARIA  lat_PM25_1201230029_ARARIA_ARARIA  \\\n",
       "0                         98.0                             26.148   \n",
       "1                         98.0                             26.148   \n",
       "2                         98.0                             26.148   \n",
       "3                         98.0                             26.148   \n",
       "4                         98.0                             26.148   \n",
       "\n",
       "   long_PM25_1201230029_ARARIA_ARARIA  PM25_1201230033_KURSAKANTA_ARARIA  \\\n",
       "0                              87.457                               26.0   \n",
       "1                              87.457                               20.5   \n",
       "2                              87.457                               12.5   \n",
       "3                              87.457                               15.5   \n",
       "4                              87.457                               10.0   \n",
       "\n",
       "   Temp_1201230033_KURSAKANTA_ARARIA  RH_1201230033_KURSAKANTA_ARARIA  \\\n",
       "0                               30.5                             90.0   \n",
       "1                               30.5                             90.0   \n",
       "2                               30.0                             90.0   \n",
       "3                               30.0                             88.0   \n",
       "4                               32.0                             82.5   \n",
       "\n",
       "   lat_PM25_1201230033_KURSAKANTA_ARARIA  \\\n",
       "0                                 26.359   \n",
       "1                                 26.359   \n",
       "2                                 26.359   \n",
       "3                                 26.359   \n",
       "4                                 26.359   \n",
       "\n",
       "   long_PM25_1201230033_KURSAKANTA_ARARIA  ...  \\\n",
       "0                                  87.443  ...   \n",
       "1                                  87.443  ...   \n",
       "2                                  87.443  ...   \n",
       "3                                  87.443  ...   \n",
       "4                                  87.443  ...   \n",
       "\n",
       "   PM25_BCDDC247BFE3_BHITAHA_WCHAMPARAN  Temp_BCDDC247BFE3_BHITAHA_WCHAMPARAN  \\\n",
       "0                                 14.55                                 38.25   \n",
       "1                                 11.22                                 38.82   \n",
       "2                                 15.26                                 38.46   \n",
       "3                                 37.81                                 39.47   \n",
       "4                                 15.55                                 39.96   \n",
       "\n",
       "   RH_BCDDC247BFE3_BHITAHA_WCHAMPARAN  \\\n",
       "0                               50.36   \n",
       "1                               50.36   \n",
       "2                               50.36   \n",
       "3                               47.59   \n",
       "4                               46.83   \n",
       "\n",
       "   lat_PM25_BCDDC247BFE3_BHITAHA_WCHAMPARAN  \\\n",
       "0                                    26.907   \n",
       "1                                    26.907   \n",
       "2                                    26.907   \n",
       "3                                    26.907   \n",
       "4                                    26.907   \n",
       "\n",
       "   long_PM25_BCDDC247BFE3_BHITAHA_WCHAMPARAN  \\\n",
       "0                                     84.136   \n",
       "1                                     84.136   \n",
       "2                                     84.136   \n",
       "3                                     84.136   \n",
       "4                                     84.136   \n",
       "\n",
       "   PM25_DC4F22364445_PIPRASI_WCHAMPARAN  Temp_DC4F22364445_PIPRASI_WCHAMPARAN  \\\n",
       "0                                 18.02                                 35.59   \n",
       "1                                 13.92                                 36.46   \n",
       "2                                 14.37                                 35.90   \n",
       "3                                 11.13                                 36.68   \n",
       "4                                 11.48                                 38.89   \n",
       "\n",
       "   RH_DC4F22364445_PIPRASI_WCHAMPARAN  \\\n",
       "0                               57.30   \n",
       "1                               57.30   \n",
       "2                               57.30   \n",
       "3                               56.93   \n",
       "4                               51.65   \n",
       "\n",
       "   lat_PM25_DC4F22364445_PIPRASI_WCHAMPARAN  \\\n",
       "0                                     27.06   \n",
       "1                                     27.06   \n",
       "2                                     27.06   \n",
       "3                                     27.06   \n",
       "4                                     27.06   \n",
       "\n",
       "   long_PM25_DC4F22364445_PIPRASI_WCHAMPARAN  \n",
       "0                                     84.023  \n",
       "1                                     84.023  \n",
       "2                                     84.023  \n",
       "3                                     84.023  \n",
       "4                                     84.023  \n",
       "\n",
       "[5 rows x 1235 columns]"
      ]
     },
     "execution_count": 8,
     "metadata": {},
     "output_type": "execute_result"
    }
   ],
   "source": [
    "lcs_data = pd.read_csv('data/AQI_LCS_data_prep.csv')\n",
    "lcs_data = lcs_data.iloc[:, 2:]\n",
    "print(f\"lcs_data.shape = {lcs_data.shape}\")\n",
    "lcs_data.head()"
   ]
  },
  {
   "cell_type": "code",
   "execution_count": 9,
   "metadata": {},
   "outputs": [
    {
     "name": "stdout",
     "output_type": "stream",
     "text": [
      "{'BHAGALPUR': 0, 'KATIHAR': 1, 'SAMASTIPUR': 2, 'SIWAN': 3, 'HAJIPUR': 4}\n",
      "[3, 8, 16, 18, 17]\n"
     ]
    }
   ],
   "source": [
    "locations_to_test_loc = ['BHAGALPUR', 'KATIHAR', 'SAMASTIPUR', 'SIWAN', 'HAJIPUR']\n",
    "location_to_test_loc_index_dict = {loc: i for i, loc in enumerate(locations_to_test_loc)}\n",
    "print(location_to_test_loc_index_dict)\n",
    "locations_to_test_index = [hcsName2Index[x.lower()] for x in locations_to_test_loc]\n",
    "\n",
    "print(locations_to_test_index)"
   ]
  },
  {
   "cell_type": "code",
   "execution_count": 10,
   "metadata": {},
   "outputs": [
    {
     "name": "stdout",
     "output_type": "stream",
     "text": [
      "hcs_data.shape = (510, 99)\n"
     ]
    },
    {
     "data": {
      "text/html": [
       "<div>\n",
       "<style scoped>\n",
       "    .dataframe tbody tr th:only-of-type {\n",
       "        vertical-align: middle;\n",
       "    }\n",
       "\n",
       "    .dataframe tbody tr th {\n",
       "        vertical-align: top;\n",
       "    }\n",
       "\n",
       "    .dataframe thead th {\n",
       "        text-align: right;\n",
       "    }\n",
       "</style>\n",
       "<table border=\"1\" class=\"dataframe\">\n",
       "  <thead>\n",
       "    <tr style=\"text-align: right;\">\n",
       "      <th></th>\n",
       "      <th>From Date_3</th>\n",
       "      <th>To Date_3</th>\n",
       "      <th>PM2.5_3</th>\n",
       "      <th>RH_3</th>\n",
       "      <th>AT_3</th>\n",
       "      <th>WS_3</th>\n",
       "      <th>WD_3</th>\n",
       "      <th>lat_3</th>\n",
       "      <th>long_3</th>\n",
       "      <th>From Date_4</th>\n",
       "      <th>...</th>\n",
       "      <th>long_17</th>\n",
       "      <th>From Date_18</th>\n",
       "      <th>To Date_18</th>\n",
       "      <th>PM2.5_18</th>\n",
       "      <th>RH_18</th>\n",
       "      <th>AT_18</th>\n",
       "      <th>WS_18</th>\n",
       "      <th>WD_18</th>\n",
       "      <th>lat_18</th>\n",
       "      <th>long_18</th>\n",
       "    </tr>\n",
       "  </thead>\n",
       "  <tbody>\n",
       "    <tr>\n",
       "      <th>0</th>\n",
       "      <td>26-07-2023 09:00</td>\n",
       "      <td>26-07-2023 09:15</td>\n",
       "      <td>12.0</td>\n",
       "      <td>76.0</td>\n",
       "      <td>31.2</td>\n",
       "      <td>3.0</td>\n",
       "      <td>229.0</td>\n",
       "      <td>25.262</td>\n",
       "      <td>87.011</td>\n",
       "      <td>26-07-2023 09:00</td>\n",
       "      <td>...</td>\n",
       "      <td>85.245</td>\n",
       "      <td>26-07-2023 09:00</td>\n",
       "      <td>26-07-2023 09:15</td>\n",
       "      <td>39.0</td>\n",
       "      <td>64.0</td>\n",
       "      <td>34.4</td>\n",
       "      <td>1.5</td>\n",
       "      <td>19.0</td>\n",
       "      <td>26.227</td>\n",
       "      <td>84.357</td>\n",
       "    </tr>\n",
       "    <tr>\n",
       "      <th>1</th>\n",
       "      <td>26-07-2023 10:00</td>\n",
       "      <td>26-07-2023 10:15</td>\n",
       "      <td>7.0</td>\n",
       "      <td>73.0</td>\n",
       "      <td>31.9</td>\n",
       "      <td>3.0</td>\n",
       "      <td>356.0</td>\n",
       "      <td>25.262</td>\n",
       "      <td>87.011</td>\n",
       "      <td>26-07-2023 10:00</td>\n",
       "      <td>...</td>\n",
       "      <td>85.245</td>\n",
       "      <td>26-07-2023 10:00</td>\n",
       "      <td>26-07-2023 10:15</td>\n",
       "      <td>25.0</td>\n",
       "      <td>62.0</td>\n",
       "      <td>35.1</td>\n",
       "      <td>1.6</td>\n",
       "      <td>29.0</td>\n",
       "      <td>26.227</td>\n",
       "      <td>84.357</td>\n",
       "    </tr>\n",
       "    <tr>\n",
       "      <th>2</th>\n",
       "      <td>26-07-2023 11:00</td>\n",
       "      <td>26-07-2023 11:15</td>\n",
       "      <td>2.0</td>\n",
       "      <td>69.0</td>\n",
       "      <td>32.7</td>\n",
       "      <td>3.5</td>\n",
       "      <td>353.0</td>\n",
       "      <td>25.262</td>\n",
       "      <td>87.011</td>\n",
       "      <td>26-07-2023 11:00</td>\n",
       "      <td>...</td>\n",
       "      <td>85.245</td>\n",
       "      <td>26-07-2023 11:00</td>\n",
       "      <td>26-07-2023 11:15</td>\n",
       "      <td>28.0</td>\n",
       "      <td>57.0</td>\n",
       "      <td>36.1</td>\n",
       "      <td>1.7</td>\n",
       "      <td>12.0</td>\n",
       "      <td>26.227</td>\n",
       "      <td>84.357</td>\n",
       "    </tr>\n",
       "    <tr>\n",
       "      <th>3</th>\n",
       "      <td>26-07-2023 12:00</td>\n",
       "      <td>26-07-2023 12:15</td>\n",
       "      <td>6.0</td>\n",
       "      <td>64.0</td>\n",
       "      <td>34.1</td>\n",
       "      <td>3.4</td>\n",
       "      <td>354.0</td>\n",
       "      <td>25.262</td>\n",
       "      <td>87.011</td>\n",
       "      <td>26-07-2023 12:00</td>\n",
       "      <td>...</td>\n",
       "      <td>85.245</td>\n",
       "      <td>26-07-2023 12:00</td>\n",
       "      <td>26-07-2023 12:15</td>\n",
       "      <td>25.0</td>\n",
       "      <td>56.0</td>\n",
       "      <td>36.9</td>\n",
       "      <td>1.5</td>\n",
       "      <td>31.0</td>\n",
       "      <td>26.227</td>\n",
       "      <td>84.357</td>\n",
       "    </tr>\n",
       "    <tr>\n",
       "      <th>4</th>\n",
       "      <td>26-07-2023 13:00</td>\n",
       "      <td>26-07-2023 13:15</td>\n",
       "      <td>15.0</td>\n",
       "      <td>62.0</td>\n",
       "      <td>34.7</td>\n",
       "      <td>3.3</td>\n",
       "      <td>358.0</td>\n",
       "      <td>25.262</td>\n",
       "      <td>87.011</td>\n",
       "      <td>26-07-2023 13:00</td>\n",
       "      <td>...</td>\n",
       "      <td>85.245</td>\n",
       "      <td>26-07-2023 13:00</td>\n",
       "      <td>26-07-2023 13:15</td>\n",
       "      <td>23.0</td>\n",
       "      <td>57.0</td>\n",
       "      <td>37.2</td>\n",
       "      <td>1.5</td>\n",
       "      <td>354.0</td>\n",
       "      <td>26.227</td>\n",
       "      <td>84.357</td>\n",
       "    </tr>\n",
       "  </tbody>\n",
       "</table>\n",
       "<p>5 rows × 99 columns</p>\n",
       "</div>"
      ],
      "text/plain": [
       "        From Date_3         To Date_3  PM2.5_3  RH_3  AT_3  WS_3   WD_3  \\\n",
       "0  26-07-2023 09:00  26-07-2023 09:15     12.0  76.0  31.2   3.0  229.0   \n",
       "1  26-07-2023 10:00  26-07-2023 10:15      7.0  73.0  31.9   3.0  356.0   \n",
       "2  26-07-2023 11:00  26-07-2023 11:15      2.0  69.0  32.7   3.5  353.0   \n",
       "3  26-07-2023 12:00  26-07-2023 12:15      6.0  64.0  34.1   3.4  354.0   \n",
       "4  26-07-2023 13:00  26-07-2023 13:15     15.0  62.0  34.7   3.3  358.0   \n",
       "\n",
       "    lat_3  long_3       From Date_4  ... long_17      From Date_18  \\\n",
       "0  25.262  87.011  26-07-2023 09:00  ...  85.245  26-07-2023 09:00   \n",
       "1  25.262  87.011  26-07-2023 10:00  ...  85.245  26-07-2023 10:00   \n",
       "2  25.262  87.011  26-07-2023 11:00  ...  85.245  26-07-2023 11:00   \n",
       "3  25.262  87.011  26-07-2023 12:00  ...  85.245  26-07-2023 12:00   \n",
       "4  25.262  87.011  26-07-2023 13:00  ...  85.245  26-07-2023 13:00   \n",
       "\n",
       "         To Date_18  PM2.5_18  RH_18  AT_18  WS_18  WD_18  lat_18 long_18  \n",
       "0  26-07-2023 09:15      39.0   64.0   34.4    1.5   19.0  26.227  84.357  \n",
       "1  26-07-2023 10:15      25.0   62.0   35.1    1.6   29.0  26.227  84.357  \n",
       "2  26-07-2023 11:15      28.0   57.0   36.1    1.7   12.0  26.227  84.357  \n",
       "3  26-07-2023 12:15      25.0   56.0   36.9    1.5   31.0  26.227  84.357  \n",
       "4  26-07-2023 13:15      23.0   57.0   37.2    1.5  354.0  26.227  84.357  \n",
       "\n",
       "[5 rows x 99 columns]"
      ]
     },
     "execution_count": 10,
     "metadata": {},
     "output_type": "execute_result"
    }
   ],
   "source": [
    "hcs_data = pd.read_csv('data/hcsdatacleaned.csv')\n",
    "hcs_data = hcs_data.iloc[:, 1:]\n",
    "print(f\"hcs_data.shape = {hcs_data.shape}\")\n",
    "hcs_data.head()"
   ]
  },
  {
   "cell_type": "code",
   "execution_count": 11,
   "metadata": {},
   "outputs": [
    {
     "name": "stdout",
     "output_type": "stream",
     "text": [
      "i = 0, location = BHAGALPUR, x.shape = (510, 9)\n",
      "i = 1, location = KATIHAR, x.shape = (510, 9)\n",
      "i = 2, location = SAMASTIPUR, x.shape = (510, 9)\n",
      "i = 3, location = SIWAN, x.shape = (510, 9)\n",
      "i = 4, location = HAJIPUR, x.shape = (510, 9)\n"
     ]
    }
   ],
   "source": [
    "hcs_data_list = [get_location_specific_hcs_data(x, hcs_data) for x in locations_to_test_index]\n",
    "for i, x in enumerate(hcs_data_list): \n",
    "    print(f\"i = {i}, location = {locations_to_test_loc[i]}, x.shape = {x.shape}\")"
   ]
  },
  {
   "cell_type": "code",
   "execution_count": 12,
   "metadata": {},
   "outputs": [
    {
     "name": "stdout",
     "output_type": "stream",
     "text": [
      "x = BHAGALPUR, y.shape = (510, 50), z.shape = (510,)\n",
      "x = KATIHAR, y.shape = (510, 50), z.shape = (510,)\n",
      "x = SAMASTIPUR, y.shape = (510, 50), z.shape = (510,)\n",
      "x = SIWAN, y.shape = (510, 50), z.shape = (510,)\n",
      "x = HAJIPUR, y.shape = (510, 50), z.shape = (510,)\n"
     ]
    }
   ],
   "source": [
    "# preparing the test data in the form of dictionary\n",
    "test_data_dict = {}\n",
    "test_data_dict_save_path = 'data/hcs_test_data_dict.pickle'\n",
    "\n",
    "for i, hcs_x in enumerate(hcs_data_list):\n",
    "    \n",
    "    hcs_name = locations_to_test_loc[i]\n",
    "    hcs_loc = (hcs_x.iloc[0, 7], hcs_x.iloc[0, 8])\n",
    "    lcs_x = get_k_closest_sensors_data(hcs_loc, lcs_data)\n",
    "    test_X, test_y = normalize_test_prep_data(lcs_x, hcs_x)\n",
    "    test_data_dict[hcs_name] = (test_X, test_y)\n",
    "\n",
    "\n",
    "for x, (y, z) in test_data_dict.items():\n",
    "    print(f\"x = {x}, y.shape = {y.shape}, z.shape = {z.shape}\")\n",
    "    \n",
    "with open(test_data_dict_save_path, 'wb') as f: \n",
    "    pickle.dump(test_data_dict, f)"
   ]
  },
  {
   "cell_type": "markdown",
   "metadata": {},
   "source": [
    "#### Evaluation"
   ]
  },
  {
   "cell_type": "code",
   "execution_count": 13,
   "metadata": {},
   "outputs": [
    {
     "ename": "OSError",
     "evalue": "No file or directory found at models/NN/unsupervised_lcs_all_data_15.h5",
     "output_type": "error",
     "traceback": [
      "\u001b[0;31m---------------------------------------------------------------------------\u001b[0m",
      "\u001b[0;31mOSError\u001b[0m                                   Traceback (most recent call last)",
      "\u001b[1;32m/Users/architaggarwal/Documents/Projects/AQI/Air-Quality-Index-Calibration/Air-Quality-Index-Calibration_Validation_Exp_Redo/gpr_unsupervised_all_sensors_eval.ipynb Cell 16\u001b[0m line \u001b[0;36m9\n\u001b[1;32m      <a href='vscode-notebook-cell:/Users/architaggarwal/Documents/Projects/AQI/Air-Quality-Index-Calibration/Air-Quality-Index-Calibration_Validation_Exp_Redo/gpr_unsupervised_all_sensors_eval.ipynb#X21sZmlsZQ%3D%3D?line=4'>5</a>\u001b[0m     test_data_dict \u001b[39m=\u001b[39m pickle\u001b[39m.\u001b[39mload(f)\n\u001b[1;32m      <a href='vscode-notebook-cell:/Users/architaggarwal/Documents/Projects/AQI/Air-Quality-Index-Calibration/Air-Quality-Index-Calibration_Validation_Exp_Redo/gpr_unsupervised_all_sensors_eval.ipynb#X21sZmlsZQ%3D%3D?line=6'>7</a>\u001b[0m \u001b[39m#with open(model_save_path, \"rb\") as f:\u001b[39;00m\n\u001b[1;32m      <a href='vscode-notebook-cell:/Users/architaggarwal/Documents/Projects/AQI/Air-Quality-Index-Calibration/Air-Quality-Index-Calibration_Validation_Exp_Redo/gpr_unsupervised_all_sensors_eval.ipynb#X21sZmlsZQ%3D%3D?line=7'>8</a>\u001b[0m \u001b[39m#    model = pickle.load(f)\u001b[39;00m\n\u001b[0;32m----> <a href='vscode-notebook-cell:/Users/architaggarwal/Documents/Projects/AQI/Air-Quality-Index-Calibration/Air-Quality-Index-Calibration_Validation_Exp_Redo/gpr_unsupervised_all_sensors_eval.ipynb#X21sZmlsZQ%3D%3D?line=8'>9</a>\u001b[0m model \u001b[39m=\u001b[39m load_model(model_save_path)\n\u001b[1;32m     <a href='vscode-notebook-cell:/Users/architaggarwal/Documents/Projects/AQI/Air-Quality-Index-Calibration/Air-Quality-Index-Calibration_Validation_Exp_Redo/gpr_unsupervised_all_sensors_eval.ipynb#X21sZmlsZQ%3D%3D?line=9'>10</a>\u001b[0m model\n",
      "File \u001b[0;32m~/anaconda3/lib/python3.11/site-packages/keras/saving/saving_api.py:212\u001b[0m, in \u001b[0;36mload_model\u001b[0;34m(filepath, custom_objects, compile, safe_mode, **kwargs)\u001b[0m\n\u001b[1;32m    204\u001b[0m     \u001b[39mreturn\u001b[39;00m saving_lib\u001b[39m.\u001b[39mload_model(\n\u001b[1;32m    205\u001b[0m         filepath,\n\u001b[1;32m    206\u001b[0m         custom_objects\u001b[39m=\u001b[39mcustom_objects,\n\u001b[1;32m    207\u001b[0m         \u001b[39mcompile\u001b[39m\u001b[39m=\u001b[39m\u001b[39mcompile\u001b[39m,\n\u001b[1;32m    208\u001b[0m         safe_mode\u001b[39m=\u001b[39msafe_mode,\n\u001b[1;32m    209\u001b[0m     )\n\u001b[1;32m    211\u001b[0m \u001b[39m# Legacy case.\u001b[39;00m\n\u001b[0;32m--> 212\u001b[0m \u001b[39mreturn\u001b[39;00m legacy_sm_saving_lib\u001b[39m.\u001b[39;49mload_model(\n\u001b[1;32m    213\u001b[0m     filepath, custom_objects\u001b[39m=\u001b[39;49mcustom_objects, \u001b[39mcompile\u001b[39;49m\u001b[39m=\u001b[39;49m\u001b[39mcompile\u001b[39;49m, \u001b[39m*\u001b[39;49m\u001b[39m*\u001b[39;49mkwargs\n\u001b[1;32m    214\u001b[0m )\n",
      "File \u001b[0;32m~/anaconda3/lib/python3.11/site-packages/keras/utils/traceback_utils.py:70\u001b[0m, in \u001b[0;36mfilter_traceback.<locals>.error_handler\u001b[0;34m(*args, **kwargs)\u001b[0m\n\u001b[1;32m     67\u001b[0m     filtered_tb \u001b[39m=\u001b[39m _process_traceback_frames(e\u001b[39m.\u001b[39m__traceback__)\n\u001b[1;32m     68\u001b[0m     \u001b[39m# To get the full stack trace, call:\u001b[39;00m\n\u001b[1;32m     69\u001b[0m     \u001b[39m# `tf.debugging.disable_traceback_filtering()`\u001b[39;00m\n\u001b[0;32m---> 70\u001b[0m     \u001b[39mraise\u001b[39;00m e\u001b[39m.\u001b[39mwith_traceback(filtered_tb) \u001b[39mfrom\u001b[39;00m \u001b[39mNone\u001b[39;00m\n\u001b[1;32m     71\u001b[0m \u001b[39mfinally\u001b[39;00m:\n\u001b[1;32m     72\u001b[0m     \u001b[39mdel\u001b[39;00m filtered_tb\n",
      "File \u001b[0;32m~/anaconda3/lib/python3.11/site-packages/keras/saving/legacy/save.py:230\u001b[0m, in \u001b[0;36mload_model\u001b[0;34m(filepath, custom_objects, compile, options)\u001b[0m\n\u001b[1;32m    228\u001b[0m \u001b[39mif\u001b[39;00m \u001b[39misinstance\u001b[39m(filepath_str, \u001b[39mstr\u001b[39m):\n\u001b[1;32m    229\u001b[0m     \u001b[39mif\u001b[39;00m \u001b[39mnot\u001b[39;00m tf\u001b[39m.\u001b[39mio\u001b[39m.\u001b[39mgfile\u001b[39m.\u001b[39mexists(filepath_str):\n\u001b[0;32m--> 230\u001b[0m         \u001b[39mraise\u001b[39;00m \u001b[39mIOError\u001b[39;00m(\n\u001b[1;32m    231\u001b[0m             \u001b[39mf\u001b[39m\u001b[39m\"\u001b[39m\u001b[39mNo file or directory found at \u001b[39m\u001b[39m{\u001b[39;00mfilepath_str\u001b[39m}\u001b[39;00m\u001b[39m\"\u001b[39m\n\u001b[1;32m    232\u001b[0m         )\n\u001b[1;32m    234\u001b[0m     \u001b[39mif\u001b[39;00m tf\u001b[39m.\u001b[39mio\u001b[39m.\u001b[39mgfile\u001b[39m.\u001b[39misdir(filepath_str):\n\u001b[1;32m    235\u001b[0m         \u001b[39mreturn\u001b[39;00m saved_model_load\u001b[39m.\u001b[39mload(\n\u001b[1;32m    236\u001b[0m             filepath_str, \u001b[39mcompile\u001b[39m, options\n\u001b[1;32m    237\u001b[0m         )\n",
      "\u001b[0;31mOSError\u001b[0m: No file or directory found at models/NN/unsupervised_lcs_all_data_15.h5"
     ]
    }
   ],
   "source": [
    "\n",
    "model_save_path = f\"models/NN/unsupervised_lcs_all_data_{NUM_LAST_DAYS}.h5\"\n",
    "\n",
    "with open(test_data_dict_save_path, 'rb') as f: \n",
    "    test_data_dict = pickle.load(f)\n",
    "    \n",
    "#with open(model_save_path, \"rb\") as f:\n",
    "#    model = pickle.load(f)\n",
    "\n",
    "model"
   ]
  },
  {
   "cell_type": "code",
   "execution_count": 15,
   "metadata": {},
   "outputs": [],
   "source": [
    "model = load_model(\"/Users/architaggarwal/Documents/Projects/AQI/Air-Quality-Index-Calibration/Air-Quality-Index-Calibration_Validation_Exp_Redo/models/NN/unsupervised_lcs_all_data_12days_25epochs.h5\")"
   ]
  },
  {
   "cell_type": "code",
   "execution_count": 16,
   "metadata": {},
   "outputs": [
    {
     "data": {
      "text/plain": [
       "<keras.engine.sequential.Sequential at 0x178f66b50>"
      ]
     },
     "execution_count": 16,
     "metadata": {},
     "output_type": "execute_result"
    }
   ],
   "source": [
    "model"
   ]
  },
  {
   "cell_type": "code",
   "execution_count": 18,
   "metadata": {},
   "outputs": [
    {
     "data": {
      "text/plain": [
       "15"
      ]
     },
     "execution_count": 18,
     "metadata": {},
     "output_type": "execute_result"
    }
   ],
   "source": [
    "NUM_LAST_DAYS"
   ]
  },
  {
   "cell_type": "code",
   "execution_count": 17,
   "metadata": {},
   "outputs": [
    {
     "name": "stdout",
     "output_type": "stream",
     "text": [
      "16/16 [==============================] - 0s 699us/step\n"
     ]
    },
    {
     "name": "stderr",
     "output_type": "stream",
     "text": [
      "2024-03-05 23:44:07.607353: W tensorflow/tsl/platform/profile_utils/cpu_utils.cc:128] Failed to get CPU frequency: 0 Hz\n"
     ]
    },
    {
     "name": "stdout",
     "output_type": "stream",
     "text": [
      "16/16 [==============================] - 0s 736us/step\n",
      "16/16 [==============================] - 0s 683us/step\n",
      "16/16 [==============================] - 0s 703us/step\n",
      "16/16 [==============================] - 0s 712us/step\n"
     ]
    }
   ],
   "source": [
    "no_finetuning_results = {}\n",
    "results_save_path = f\"logs/NN_nofinetuning_results/scores_{NUM_LAST_DAYS}.json\"\n",
    "\n",
    "for loc, (X_test, y_test) in test_data_dict.items():\n",
    "    \n",
    "    y_test_hat = model.predict(X_test)\n",
    "    no_finetuning_results[loc] = {'r2_score': r2_score(y_test, y_test_hat), \"mae_score\": mean_absolute_error(y_test, y_test_hat)}\n",
    "\n",
    "with open(results_save_path, 'w') as f:\n",
    "    json.dump(no_finetuning_results, f, indent=4)"
   ]
  },
  {
   "cell_type": "markdown",
   "metadata": {},
   "source": [
    "#### Calculating average scores of various models"
   ]
  },
  {
   "cell_type": "code",
   "execution_count": 9,
   "metadata": {},
   "outputs": [
    {
     "name": "stdout",
     "output_type": "stream",
     "text": [
      "avg_r2 = -1.1617635656855219, avg_mae = 17.17479043538025\n"
     ]
    }
   ],
   "source": [
    "locations_to_test_loc = ['BHAGALPUR', 'KATIHAR', 'SAMASTIPUR', 'SIWAN', 'HAJIPUR']\n",
    "\n",
    "results_path = \"logs/no_finetuning_unsupervised_lcs/linear_regression_scores_12.json\"\n",
    "with open(results_path, 'r') as f:\n",
    "    results = json.load(f)\n",
    "    \n",
    "avg_r2 = 0\n",
    "avg_mae = 0    \n",
    "    \n",
    "for loc in locations_to_test_loc:\n",
    "    avg_r2 += results[loc]['r2_score']\n",
    "    avg_mae += results[loc]['mae_score']\n",
    "    \n",
    "avg_r2 /= len(locations_to_test_loc)\n",
    "avg_mae /= len(locations_to_test_loc)\n",
    "\n",
    "print(f\"avg_r2 = {avg_r2}, avg_mae = {avg_mae}\")"
   ]
  },
  {
   "cell_type": "code",
   "execution_count": 2,
   "metadata": {},
   "outputs": [
    {
     "name": "stdout",
     "output_type": "stream",
     "text": [
      "avg_r2 = -0.007956132028374464, avg_mae = 11.196490180155275\n"
     ]
    }
   ],
   "source": [
    "locations_to_test_loc = ['BHAGALPUR', 'KATIHAR', 'SAMASTIPUR', 'SIWAN', 'HAJIPUR']\n",
    "\n",
    "results_path = \"logs/NN_no_finetuning_unsupervised_lcs/scores_20.json\"\n",
    "with open(results_path, 'r') as f:\n",
    "    results = json.load(f)\n",
    "    \n",
    "avg_r2 = 0\n",
    "avg_mae = 0    \n",
    "    \n",
    "for loc in locations_to_test_loc:\n",
    "    avg_r2 += results[loc]['r2_score']\n",
    "    avg_mae += results[loc]['mae_score']\n",
    "    \n",
    "avg_r2 /= len(locations_to_test_loc)\n",
    "avg_mae /= len(locations_to_test_loc)\n",
    "\n",
    "print(f\"avg_r2 = {avg_r2}, avg_mae = {avg_mae}\")"
   ]
  },
  {
   "cell_type": "code",
   "execution_count": null,
   "metadata": {},
   "outputs": [],
   "source": []
  }
 ],
 "metadata": {
  "kernelspec": {
   "display_name": "base",
   "language": "python",
   "name": "python3"
  },
  "language_info": {
   "codemirror_mode": {
    "name": "ipython",
    "version": 3
   },
   "file_extension": ".py",
   "mimetype": "text/x-python",
   "name": "python",
   "nbconvert_exporter": "python",
   "pygments_lexer": "ipython3",
   "version": "3.11.0"
  },
  "orig_nbformat": 4
 },
 "nbformat": 4,
 "nbformat_minor": 2
}
