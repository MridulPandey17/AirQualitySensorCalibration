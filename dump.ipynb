{
 "cells": [
  {
   "cell_type": "code",
   "execution_count": 1,
   "metadata": {},
   "outputs": [],
   "source": [
    "import os"
   ]
  },
  {
   "cell_type": "code",
   "execution_count": 11,
   "metadata": {},
   "outputs": [
    {
     "name": "stdout",
     "output_type": "stream",
     "text": [
      "logs/leave_one_out_finetune_hcs/finetune_14_days/NN_12.json\n",
      "File Deleted\n",
      "logs/leave_one_out_finetune_hcs/finetune_5_days/NN_12.json\n",
      "File Deleted\n",
      "logs/leave_one_out_finetune_hcs/finetune_18_days/NN_12.json\n",
      "File Deleted\n",
      "logs/leave_one_out_finetune_hcs/finetune_9_days/NN_12.json\n",
      "File Deleted\n",
      "logs/leave_one_out_finetune_hcs/finetune_8_days/NN_12.json\n",
      "File Deleted\n",
      "logs/leave_one_out_finetune_hcs/finetune_19_days/NN_12.json\n",
      "File Deleted\n",
      "logs/leave_one_out_finetune_hcs/finetune_4_days/NN_12.json\n",
      "File Deleted\n",
      "logs/leave_one_out_finetune_hcs/finetune_15_days/NN_12.json\n",
      "File Deleted\n",
      "logs/leave_one_out_finetune_hcs/finetune_12_days/NN_12.json\n",
      "File Deleted\n",
      "logs/leave_one_out_finetune_hcs/finetune_3_days/NN_12.json\n",
      "File Deleted\n",
      "logs/leave_one_out_finetune_hcs/finetune_2_days/NN_12.json\n",
      "File Deleted\n",
      "logs/leave_one_out_finetune_hcs/finetune_13_days/NN_12.json\n",
      "File Deleted\n",
      "logs/leave_one_out_finetune_hcs/finetune_1_days/NN_12.json\n",
      "File Deleted\n",
      "logs/leave_one_out_finetune_hcs/finetune_10_days/NN_12.json\n",
      "File Deleted\n",
      "logs/leave_one_out_finetune_hcs/finetune_11_days/NN_12.json\n",
      "File Deleted\n",
      "logs/leave_one_out_finetune_hcs/finetune_7_days/NN_12.json\n",
      "File Deleted\n",
      "logs/leave_one_out_finetune_hcs/finetune_16_days/NN_12.json\n",
      "File Deleted\n",
      "logs/leave_one_out_finetune_hcs/finetune_20_days/NN_12.json\n",
      "File Deleted\n",
      "logs/leave_one_out_finetune_hcs/finetune_21_days/NN_12.json\n",
      "File Deleted\n",
      "logs/leave_one_out_finetune_hcs/finetune_17_days/NN_12.json\n",
      "File Deleted\n",
      "logs/leave_one_out_finetune_hcs/finetune_6_days/NN_12.json\n",
      "File Deleted\n"
     ]
    }
   ],
   "source": [
    "for (i,path) in enumerate(os.listdir('logs/leave_one_out_finetune_hcs')):\n",
    "    \n",
    "    if(path.split('_')[0]=='finetune'):\n",
    "        newpath = 'logs/leave_one_out_finetune_hcs/'+path + '/NN_12.json'\n",
    "        print(newpath)\n",
    "        if os.path.exists(newpath):\n",
    "            print('File Deleted')\n",
    "            os.remove(newpath)"
   ]
  },
  {
   "cell_type": "code",
   "execution_count": null,
   "metadata": {},
   "outputs": [],
   "source": []
  }
 ],
 "metadata": {
  "kernelspec": {
   "display_name": "base",
   "language": "python",
   "name": "python3"
  },
  "language_info": {
   "codemirror_mode": {
    "name": "ipython",
    "version": 3
   },
   "file_extension": ".py",
   "mimetype": "text/x-python",
   "name": "python",
   "nbconvert_exporter": "python",
   "pygments_lexer": "ipython3",
   "version": "3.11.0"
  }
 },
 "nbformat": 4,
 "nbformat_minor": 2
}
